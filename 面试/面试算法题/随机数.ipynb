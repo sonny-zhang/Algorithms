{
 "cells": [
  {
   "cell_type": "markdown",
   "metadata": {},
   "source": [
    "## 生成随机数组，位置不能等于数值\n",
    "有N个人，随机交换彼此的礼物，自己不能拿自己的，设计一个算法？"
   ]
  },
  {
   "cell_type": "code",
   "execution_count": 114,
   "metadata": {},
   "outputs": [
    {
     "data": {
      "text/plain": [
       "[9, 2, 8, 1, 6, 4, 0, 5, 7, 3]"
      ]
     },
     "execution_count": 114,
     "metadata": {},
     "output_type": "execute_result"
    }
   ],
   "source": [
    "# 使用set\n",
    "import random\n",
    "def get_gift(n):\n",
    "    all = set(i for i in range(n))\n",
    "    while True:\n",
    "        ret = [0] * n\n",
    "        for i in range(n):\n",
    "            can_use = all - set(ret[:i]) - set([i])\n",
    "            ret[i] = random.choice(list(can_use))\n",
    "        else:\n",
    "            break\n",
    "    return ret\n",
    "get_gift(10)"
   ]
  }
 ],
 "metadata": {
  "kernelspec": {
   "display_name": "Python 3",
   "language": "python",
   "name": "python3"
  },
  "language_info": {
   "codemirror_mode": {
    "name": "ipython",
    "version": 3
   },
   "file_extension": ".py",
   "mimetype": "text/x-python",
   "name": "python",
   "nbconvert_exporter": "python",
   "pygments_lexer": "ipython3",
   "version": "3.6.5"
  }
 },
 "nbformat": 4,
 "nbformat_minor": 2
}
