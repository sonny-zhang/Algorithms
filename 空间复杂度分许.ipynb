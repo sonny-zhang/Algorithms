{
 "cells": [
  {
   "cell_type": "markdown",
   "metadata": {},
   "source": [
    "# 空间复杂度分析\n",
    "> 空间复杂度全称就是渐 进空间复杂度（asymptotic space complexity），表示算法的存储空间与 数据规模之间的增长关系。"
   ]
  },
  {
   "cell_type": "markdown",
   "metadata": {},
   "source": [
    "#### 问题1:\n",
    "> 存储一个二进制数，输入规模（空间复杂度）是O(logn) bit。请问如何理解？  \n",
    "\n",
    "答：  \n",
    "$\\because$ 8用二进制是占用$T_8=log_28+1=4$bit, 用复杂度表示为$O(logN)$bit  \n",
    "$\\therefore$ n用二进制占用$T_n=O(logN)$bit"
   ]
  }
 ],
 "metadata": {
  "kernelspec": {
   "display_name": "Python 3",
   "language": "python",
   "name": "python3"
  },
  "language_info": {
   "codemirror_mode": {
    "name": "ipython",
    "version": 3
   },
   "file_extension": ".py",
   "mimetype": "text/x-python",
   "name": "python",
   "nbconvert_exporter": "python",
   "pygments_lexer": "ipython3",
   "version": "3.6.5"
  }
 },
 "nbformat": 4,
 "nbformat_minor": 2
}
