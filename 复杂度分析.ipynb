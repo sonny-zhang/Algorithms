{
 "cells": [
  {
   "cell_type": "markdown",
   "metadata": {},
   "source": [
    "# 时间复杂度"
   ]
  },
  {
   "cell_type": "markdown",
   "metadata": {},
   "source": [
    "## 大O时间复杂度表示法  \n",
    "公式：$Tn=O(f(n))$  \n",
    "含义：`Tn`代码执行时间；`f(n)`每行代码执行的次数总和; `O`代码的执行时间`T(n)`与`f(n)`;\n",
    "大O表示代码执行时间随数据规模增长的变化趋势，也就是时间复杂度。"
   ]
  },
  {
   "cell_type": "code",
   "execution_count": 1,
   "metadata": {},
   "outputs": [
    {
     "data": {
      "text/plain": [
       "['1*1', '1*2', '2*2']"
      ]
     },
     "execution_count": 1,
     "metadata": {},
     "output_type": "execute_result"
    }
   ],
   "source": [
    "def cal(n: int):\n",
    "    sum = 0\n",
    "    a = []\n",
    "    for i in range(1, n+1):\n",
    "        j = 1\n",
    "        for j in range(i, n+1):\n",
    "            sum = sum + i*j\n",
    "            a.append('{}*{}'.format(i, j)) # 为了方便观察\n",
    "    return sum, a\n",
    "\n",
    "cal(3)[1]"
   ]
  },
  {
   "cell_type": "markdown",
   "metadata": {},
   "source": [
    "大O函数式为：假设每行使用时间是相同的，$Tn=O(2n^2+2n+2)$  \n",
    "分析：幂函数，定义域>0，单调递增。决定增长是高阶幂，忽略常数和一次幂，上面的公式可以变化为$Tn=O(n^2)$  \n"
   ]
  },
  {
   "cell_type": "markdown",
   "metadata": {},
   "source": [
    "## 时间复杂度分析\n",
    "### 分析方法\n",
    "1. 只关注循环次数最多的一段代码\n",
    "2. 加法法则：总复杂度等于量级最大的那段代码的复杂度\n",
    "3. 乘法法则：嵌套代码的复杂度等于嵌套内外代码复杂度的乘积"
   ]
  },
  {
   "cell_type": "markdown",
   "metadata": {},
   "source": [
    "### 常见的时间复杂度案例  \n",
    "\n",
    "复杂度量级  | 大O表示  |  多项式\n",
    "---|---|--\n",
    "常量阶 | $O(1)$       | True\n",
    "对数阶 | $O(logn)$    | True\n",
    "线性阶 | $O(n)$       | True\n",
    "线性对数阶 | $O(nlogn)$   | True\n",
    "次幂阶 | $O(n^k)$(k>1的整数)  | True\n",
    "指数阶 | $O(2^n)$     | 非多项式\n",
    "阶乘阶 | $O(n!)$      | 非多项式"
   ]
  },
  {
   "cell_type": "markdown",
   "metadata": {},
   "source": [
    "- $O(1)$：只要算法中不存在循环语句、递归语句"
   ]
  },
  {
   "cell_type": "code",
   "execution_count": 3,
   "metadata": {},
   "outputs": [
    {
     "name": "stdout",
     "output_type": "stream",
     "text": [
      "[3, 9, 27]\n"
     ]
    }
   ],
   "source": [
    "i = 1\n",
    "a = []\n",
    "while i <= 10:   # 10为n\n",
    "    i = i*3\n",
    "    a.append(i)  \n",
    "print(a)"
   ]
  },
  {
   "cell_type": "markdown",
   "metadata": {},
   "source": [
    "执行了$log_310$次, 根据乘法法则，$O(log_3n)=O(log_32*log_2n)$  \n",
    "去掉常数后就是$O(log_2n)$，在对数阶时间复杂度的表示方法里，可以忽略对数的“底”，统一表示为$O(logn)$"
   ]
  }
 ],
 "metadata": {
  "kernelspec": {
   "display_name": "Python 3",
   "language": "python",
   "name": "python3"
  },
  "language_info": {
   "codemirror_mode": {
    "name": "ipython",
    "version": 3
   },
   "file_extension": ".py",
   "mimetype": "text/x-python",
   "name": "python",
   "nbconvert_exporter": "python",
   "pygments_lexer": "ipython3",
   "version": "3.6.5"
  }
 },
 "nbformat": 4,
 "nbformat_minor": 2
}
