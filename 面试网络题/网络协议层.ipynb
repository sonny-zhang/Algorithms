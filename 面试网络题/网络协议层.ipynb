{
 "cells": [
  {
   "cell_type": "markdown",
   "metadata": {},
   "source": [
    "## OSI七层协议（Open System Interconnection）\n",
    "> OSI是一个开放性的通信系统互连参考模型，他是一个定义得非常好的协议规范。OSI模型有7层结构，每层都可以有几个子层。 OSI的7层从上到下分别是 7 应用层 6 表示层 5 会话层 4 传输层 3 网络层 2 数据链路层 1 物理层 ；其中高层（即7、6、5、4层）定义了应用程序的功能，下面3层（即3、2、1层）主要面向通过网络的端到端的数据流。  \n",
    "\n",
    "- 应用层：HTTP、FTP、SMTP  \n",
    "- 表示层： ASCII  \n",
    "- 会话层： SQL、RPC  \n",
    "- 传输层：TCP、UDP、SPX  \n",
    "- 网络层：IP  \n",
    "- 数据链路层：AIM、FDDI  \n",
    "- 物理层：连接头、帧、帧的使用、电流、编码及光调制等都属于各种物理层规范中的内容  "
   ]
  }
 ],
 "metadata": {
  "kernelspec": {
   "display_name": "Python 3",
   "language": "python",
   "name": "python3"
  },
  "language_info": {
   "codemirror_mode": {
    "name": "ipython",
    "version": 3
   },
   "file_extension": ".py",
   "mimetype": "text/x-python",
   "name": "python",
   "nbconvert_exporter": "python",
   "pygments_lexer": "ipython3",
   "version": "3.6.5"
  }
 },
 "nbformat": 4,
 "nbformat_minor": 2
}
