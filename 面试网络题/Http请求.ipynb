{
 "cells": [
  {
   "cell_type": "markdown",
   "metadata": {},
   "source": [
    "## 请求行\n",
    "- POST/GET: 请求方法  \n",
    "- PATH: 请求地址  \n",
    "- HTTP/HTTPS 1.: 请求协议和版本号"
   ]
  },
  {
   "cell_type": "markdown",
   "metadata": {},
   "source": [
    "## 请求头\n",
    "A发送一个请求a到B\n",
    "- Accept:  指定客户端能够接收的内容类型。  \n",
    "- Referer:  请求a的来源地址。  \n",
    "- Accept-Language: 浏览器可接受的语言。  \n",
    "- User-Agent: 发出请求的用户信息。 \n",
    "- Content-Type: 请求的与实体对应的MIME信息。   \n",
    "- Host: 指定请求的服务器的域名和端口号。  \n",
    "- Content-Length: 请求的内容长度。  \n",
    "- Connection：表示是否需要持久连接。    \n",
    "- Cache-Control: 指定请求和响应遵循的缓存机制。  \n",
    "- Cookie: HTTP请求发送时，会把保存在该请求域名下的所有cookie值一起发送给web服务器。    "
   ]
  }
 ],
 "metadata": {
  "kernelspec": {
   "display_name": "Python 3",
   "language": "python",
   "name": "python3"
  },
  "language_info": {
   "codemirror_mode": {
    "name": "ipython",
    "version": 3
   },
   "file_extension": ".py",
   "mimetype": "text/x-python",
   "name": "python",
   "nbconvert_exporter": "python",
   "pygments_lexer": "ipython3",
   "version": "3.6.5"
  }
 },
 "nbformat": 4,
 "nbformat_minor": 2
}
