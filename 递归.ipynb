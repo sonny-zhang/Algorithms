{
 "cells": [
  {
   "cell_type": "markdown",
   "metadata": {},
   "source": [
    "# 递归(Recursion)\n",
    "\n",
    "*递归满足条件：*  \n",
    "1） 终止条件：确定递归到何时终止，也称为递归出口(边界条件)。   \n",
    "2） 递归模式：大问题是如何分解为小问题的，也称为递归体。\n",
    "\n",
    "*递归问题分析策略：*   \n",
    "1.**如果一个问题A可以分解为若干子问题B、C、D，可以假设子问题 B、C、D已经解决，在此基础上思考如何解决问题A。只需要思考问题A与子问题B、C、D两层之间的关系即可。**  \n",
    "2.**只要遇到递归，我们就把它抽象成一 个递推公式，不用想一层层的调用关系，不要试图用人脑去分解递归 的每个步骤。**"
   ]
  },
  {
   "cell_type": "markdown",
   "metadata": {},
   "source": [
    "## 递归代码带来的问题\n",
    "- 堆栈溢出\n",
    "> 在计算1000！时，递归函数使得函数调用次数非常多，层级很深，返回却很少，导致堆栈无法容纳大量的调用返回地址，从而产生溢出  \n",
    "\n",
    "- 重复计算\n",
    "- 函数调用耗时多\n",
    "- 空间复杂度高\n",
    "\n",
    "解决思路是：迭代循环代替递归  \n",
    "对return语句进行尾递归优化，也就是避免在return语句里出现表达式，这样解释器或编译器就会自动把尾递归进行优化，使得无论递归多少次函数，都只占用一个栈，从而避免溢出的产生（原理上）  \n",
    "***python并不支持尾递归优化，python递归的次数在1000以内不会产生溢出，1000以上就要考虑用循环来代替了***"
   ]
  },
  {
   "attachments": {
    "image.png": {
     "image/png": "[encoded data removed]"
    }
   },
   "cell_type": "markdown",
   "metadata": {},
   "source": [
    "## 案例\n",
    "1. 求一个整数n的阶乘？\n",
    "> 分析：  \n",
    "地推公式为\n",
    "![image.png](attachment:image.png)"
   ]
  },
  {
   "cell_type": "code",
   "execution_count": 4,
   "metadata": {},
   "outputs": [
    {
     "data": {
      "text/plain": [
       "24"
      ]
     },
     "execution_count": 4,
     "metadata": {},
     "output_type": "execute_result"
    }
   ],
   "source": [
    "# 1.求一个整数n的阶乘?\n",
    "def factorial(n):\n",
    "    if n == 1:\n",
    "        return 1\n",
    "    return n * factorial(n - 1)\n",
    "factorial(4)"
   ]
  },
  {
   "cell_type": "code",
   "execution_count": null,
   "metadata": {},
   "outputs": [],
   "source": []
  }
 ],
 "metadata": {
  "kernelspec": {
   "display_name": "Python 3",
   "language": "python",
   "name": "python3"
  },
  "language_info": {
   "codemirror_mode": {
    "name": "ipython",
    "version": 3
   },
   "file_extension": ".py",
   "mimetype": "text/x-python",
   "name": "python",
   "nbconvert_exporter": "python",
   "pygments_lexer": "ipython3",
   "version": "3.6.5"
  }
 },
 "nbformat": 4,
 "nbformat_minor": 2
}
