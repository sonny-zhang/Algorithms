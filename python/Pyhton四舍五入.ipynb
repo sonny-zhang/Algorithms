{
 "cells": [
  {
   "attachments": {},
   "cell_type": "markdown",
   "metadata": {},
   "source": [
    "## decimal()\n",
    "官方文档：  \n",
    "- 使用方法 https://docs.python.org/zh-cn/3/library/decimal.html#decimal.Decimal.quantize  \n",
    "- 可用科学计算方式： https://docs.python.org/zh-cn/3/library/decimal.html#rounding-modes"
   ]
  },
  {
   "cell_type": "code",
   "execution_count": 10,
   "metadata": {},
   "outputs": [
    {
     "data": {
      "text/plain": [
       "Decimal('0.38')"
      ]
     },
     "execution_count": 10,
     "metadata": {},
     "output_type": "execute_result"
    }
   ],
   "source": [
    "from decimal import getcontext, Decimal, ROUND_HALF_UP\n",
    "getcontext().rounding  # 默认ROUND_HALF_EVEN是奇进偶舍\n",
    "\n",
    "\n",
    "Decimal(0.375).quantize(Decimal('0.00'), rounding=ROUND_HALF_UP)  # ROUND_HALF_UP是四舍五入"
   ]
  },
  {
   "cell_type": "markdown",
   "metadata": {},
   "source": [
    "## round()\n",
    "- 采用的不是`四舍五入`，而是`奇进偶舍`(四舍六入五成双)  \n",
    "\n",
    "列入一个小数：`a.bcdef...`，需要精确到小数后两位，还要看第三四位：  \n",
    "```\n",
    "value = float()\n",
    "if d<5:\n",
    "    value = a.bc\n",
    "if d>5:\n",
    "    value = a.b+0.01(c+1)\n",
    "if d==5:\n",
    "    if e==0 and c==偶数:\n",
    "        value = a.bc\n",
    "    if e==0 and c==奇数:\n",
    "        value = a.b+0.01(c+1)\n",
    "    if e>0:\n",
    "        value = a.b+0.01(c+1)\n",
    "```"
   ]
  }
 ],
 "metadata": {
  "kernelspec": {
   "display_name": "Python 3",
   "language": "python",
   "name": "python3"
  },
  "language_info": {
   "codemirror_mode": {
    "name": "ipython",
    "version": 3
   },
   "file_extension": ".py",
   "mimetype": "text/x-python",
   "name": "python",
   "nbconvert_exporter": "python",
   "pygments_lexer": "ipython3",
   "version": "3.6.5"
  }
 },
 "nbformat": 4,
 "nbformat_minor": 2
}
