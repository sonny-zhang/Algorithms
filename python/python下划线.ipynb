{
 "cells": [
  {
   "cell_type": "markdown",
   "metadata": {},
   "source": [
    "## 前缀单下划线\n",
    "使用场景：约定的私有属性。_value"
   ]
  },
  {
   "cell_type": "markdown",
   "metadata": {},
   "source": [
    "## 后缀单下划线\n",
    "使用场景：与关键字冲突。 value_"
   ]
  },
  {
   "cell_type": "markdown",
   "metadata": {},
   "source": [
    "## 前缀双下划线\n",
    "- 双下划线前缀会导致Python解释器重写属性名称，以避免子类中的命名冲突。也叫做名称修饰（name mangling）。__value  \n",
    "\n",
    "使用场景：改变属性的名称"
   ]
  },
  {
   "cell_type": "markdown",
   "metadata": {},
   "source": [
    "## 前后缀双下划线\n",
    "- 用于特殊用途  \n",
    "$__init__$: 对象构造函数  \n",
    "$__call__$: 对象可以被调用  "
   ]
  },
  {
   "cell_type": "markdown",
   "metadata": {},
   "source": [
    "## 单下划线\n",
    "- 解释器当前变量值"
   ]
  }
 ],
 "metadata": {
  "kernelspec": {
   "display_name": "Python 3",
   "language": "python",
   "name": "python3"
  },
  "language_info": {
   "codemirror_mode": {
    "name": "ipython",
    "version": 3
   },
   "file_extension": ".py",
   "mimetype": "text/x-python",
   "name": "python",
   "nbconvert_exporter": "python",
   "pygments_lexer": "ipython3",
   "version": "3.6.5"
  }
 },
 "nbformat": 4,
 "nbformat_minor": 2
}
