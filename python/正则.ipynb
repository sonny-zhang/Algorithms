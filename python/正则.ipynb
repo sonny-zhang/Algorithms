{
 "cells": [
  {
   "cell_type": "markdown",
   "metadata": {},
   "source": [
    "## 元字符(metacharacter) \n",
    "> 就是特殊字符和符号，就是这个赋予正则表达式强大的功能和灵活性\n",
    "\n",
    "记号 | 说明 | 正则样式\n",
    "---|---|---\n",
    "`.` | (点)匹配任何除了换行符的任意字符 | b.b\n"
   ]
  },
  {
   "cell_type": "code",
   "execution_count": 14,
   "metadata": {},
   "outputs": [
    {
     "name": "stdout",
     "output_type": "stream",
     "text": [
      "2019年6月1日\n"
     ]
    }
   ],
   "source": [
    "import re \n",
    "line = \"xxx出生于2019年6月1日\"\n",
    "patt = r\".*出生于(\\d{4}[年/-]\\d{1,2}([月/-]\\d{1,2}日|[月/-]$|$))\"\n",
    "m = re.match(patt, line)\n",
    "print(m.group(1))"
   ]
  },
  {
   "cell_type": "code",
   "execution_count": 16,
   "metadata": {},
   "outputs": [
    {
     "name": "stdout",
     "output_type": "stream",
     "text": [
      "1\n"
     ]
    }
   ],
   "source": [
    "import re \n",
    "line = \"1 收藏\"\n",
    "patt = r\".*(\\d+).*\"\n",
    "m = re.match(patt, line)\n",
    "print(m.group(1))"
   ]
  }
 ],
 "metadata": {
  "kernelspec": {
   "display_name": "Python 3",
   "language": "python",
   "name": "python3"
  },
  "language_info": {
   "codemirror_mode": {
    "name": "ipython",
    "version": 3
   },
   "file_extension": ".py",
   "mimetype": "text/x-python",
   "name": "python",
   "nbconvert_exporter": "python",
   "pygments_lexer": "ipython3",
   "version": "3.6.5"
  }
 },
 "nbformat": 4,
 "nbformat_minor": 2
}
