{
 "cells": [
  {
   "cell_type": "markdown",
   "metadata": {},
   "source": [
    "# 时间复杂度\n",
    "> 时间复杂度的全称是渐进时间复杂度，表示算法的执行 时间与数据规模之间的增长关系。"
   ]
  },
  {
   "cell_type": "markdown",
   "metadata": {},
   "source": [
    "## 大O时间复杂度表示法  \n",
    "公式：$Tn=O(f(n))$  \n",
    "含义：`Tn`代码执行时间；`f(n)`每行代码执行的次数总和; `O`代码的执行时间`T(n)`与`f(n)`;\n",
    "大O表示代码执行时间随数据规模增长的变化趋势，也就是时间复杂度。"
   ]
  },
  {
   "cell_type": "code",
   "execution_count": 1,
   "metadata": {},
   "outputs": [
    {
     "data": {
      "text/plain": [
       "['1*1', '1*2', '2*2']"
      ]
     },
     "execution_count": 1,
     "metadata": {},
     "output_type": "execute_result"
    }
   ],
   "source": [
    "def cal(n: int):\n",
    "    sum = 0\n",
    "    a = []\n",
    "    for i in range(1, n+1):\n",
    "        j = 1\n",
    "        for j in range(i, n+1):\n",
    "            sum = sum + i*j\n",
    "            a.append('{}*{}'.format(i, j)) # 为了方便观察\n",
    "    return sum, a\n",
    "\n",
    "cal(3)[1]"
   ]
  },
  {
   "cell_type": "markdown",
   "metadata": {},
   "source": [
    "大O函数式为：假设每行使用时间是相同的，$Tn=O(2n^2+2n+2)$  \n",
    "分析：幂函数，定义域>0，单调递增。决定增长是高阶幂，忽略常数和一次幂，上面的公式可以变化为$Tn=O(n^2)$  \n"
   ]
  },
  {
   "cell_type": "markdown",
   "metadata": {},
   "source": [
    "## 时间复杂度分析\n",
    "### 分析方法\n",
    "1. 只关注循环次数最多的一段代码\n",
    "2. 加法法则：总复杂度等于量级最大的那段代码的复杂度\n",
    "3. 乘法法则：嵌套代码的复杂度等于嵌套内外代码复杂度的乘积"
   ]
  },
  {
   "cell_type": "markdown",
   "metadata": {},
   "source": [
    "### 常见的时间复杂度案例  \n",
    "\n",
    "复杂度量级  | 大O表示  |  多项式\n",
    "---|---|--\n",
    "常量阶 | $O(1)$       | True\n",
    "对数阶 | $O(logn)$    | True\n",
    "线性阶 | $O(n)$       | True\n",
    "线性对数阶 | $O(nlogn)$   | True\n",
    "次幂阶 | $O(n^k)$(k>1的整数)  | True\n",
    "指数阶 | $O(2^n)$     | 非多项式\n",
    "阶乘阶 | $O(n!)$      | 非多项式"
   ]
  },
  {
   "cell_type": "markdown",
   "metadata": {},
   "source": [
    "- $O(1)$：只要算法中不存在循环语句、递归语句"
   ]
  },
  {
   "cell_type": "code",
   "execution_count": 3,
   "metadata": {},
   "outputs": [
    {
     "name": "stdout",
     "output_type": "stream",
     "text": [
      "[3, 9, 27]\n"
     ]
    }
   ],
   "source": [
    "i = 1\n",
    "a = []\n",
    "while i <= 10:   # 10为n\n",
    "    i = i*3\n",
    "    a.append(i)  \n",
    "print(a)"
   ]
  },
  {
   "cell_type": "markdown",
   "metadata": {},
   "source": [
    "执行了$log_310$次, 根据乘法法则，$O(log_3n)=O(log_32*log_2n)$  \n",
    "去掉常数后就是$O(log_2n)$，在对数阶时间复杂度的表示方法里，可以忽略对数的“底”，统一表示为$O(logn)$"
   ]
  },
  {
   "cell_type": "markdown",
   "metadata": {},
   "source": [
    "## 最好、最坏、平均、均摊时间复杂度\n",
    "- best case time complexity 最好情况时间复杂度\n",
    "- worst case time complexity 最坏情况时间复杂度\n",
    "- average case time complexity 平均情况时间复杂度\n",
    "- amortized time complexity 均摊时间复杂度  \n",
    "\n",
    "> Why: 为什么要引入这四个概念？  \n",
    "同一段代码，在不同输入的情况下，复杂度量级有可能是不一样的,引入这几个概念之后，我们可以更加全面地表示一段代码的执行效率  "
   ]
  },
  {
   "cell_type": "markdown",
   "metadata": {},
   "source": [
    "### 最好情况、最坏情况时间复杂度"
   ]
  },
  {
   "cell_type": "code",
   "execution_count": 11,
   "metadata": {},
   "outputs": [
    {
     "name": "stdout",
     "output_type": "stream",
     "text": [
      "1\n"
     ]
    }
   ],
   "source": [
    "def find(array: list, n: int, x: int) -> int:\n",
    "    \"\"\"\n",
    "    :param n: list的长度\n",
    "    \"\"\"\n",
    "    pos = -1\n",
    "    for i in range(n):\n",
    "        if array[i] == x:\n",
    "            pos = i\n",
    "            break\n",
    "    return pos\n",
    "pos = find([-1, 0, 1], 3, 0)\n",
    "print(pos)"
   ]
  },
  {
   "cell_type": "markdown",
   "metadata": {},
   "source": [
    "$\\because$ 这类查找问题，因为可能第一次就查到，复杂度就是$O(1)$；也可能最后一次才查到，复杂度就是$O(n)$  \n",
    "$\\therefore$ 为了表示代码在不同情况下的时间复杂度，就要引入最好、最坏、平均情况下的时间复杂度"
   ]
  },
  {
   "cell_type": "markdown",
   "metadata": {},
   "source": [
    "### 平均情况时间复杂度\n",
    "- 问题1\n",
    "> 在n个元素数组A中查找变量x，算出平均每种情况的时间复杂度？  \n",
    "\n",
    "答：  \n",
    "**不考虑概率情况: 平均时间复杂度**  \n",
    "$\\because$ x存在A数组中有n种可能情况，x不存在A数组有一个可能情况, 共有n+1种可能  \n",
    "$\\therefore$ 这n+1种可能，需要遍历多少元素呢，$\\frac{n*(n+1)}{2}$+$n$  \n",
    "$\\therefore$ $\\frac{n*(n+1)+n}{n+1}$ = $\\frac{n(n+3)}{2(n+1)}$ 省略掉系数、常量、低阶  \n",
    "$\\therefore$ 平均时间复杂度=$O(n)$  \n",
    "\n",
    "**考虑概率情况：加权平均时间复杂度**  \n",
    "$\\because$ 假设x在数组A与不在数组A都为$\\frac{1}{2}$，且x出现在数组A中的位置概率一样$\\frac{1}{n}$  \n",
    "$\\therefore$ 根据概率乘法法则，x出现在数组A任意位置的概率为$\\frac{1}{2n}$  \n",
    "$\\therefore$ $\\frac{n*(n+1)}{2}*\\frac{1}{2n}$+$n*\\frac{1}{2}$ = $\\frac{3n+1}{4}$ 这个值叫加权平均值，平均复杂度也应该叫加权平均时间复杂度  \n",
    "$\\therefore$ 去掉系数和常量就是$O(n)$"
   ]
  },
  {
   "cell_type": "markdown",
   "metadata": {},
   "source": [
    "大多数情况下，并不需要区分最好、最坏、平均情况时 间复杂度三种情况。很多时候，使用一个复杂度就可以满足需求。  \n",
    "<font color=#FF6347 face=\"宋体\">只有同一块代码在不同的情况下，时间复杂度有量级的差距，我们才会使用这三种复杂度表示法来区分。</font>  "
   ]
  },
  {
   "cell_type": "markdown",
   "metadata": {},
   "source": [
    "- 问题2  \n",
    "> 将一个字符x插入数组A中，该数组规定长度为n；如果数组A满员了，就将所有元素相加之和z放到A中的第一位，其他清空，把x放到第二位，请写入算法并计算三种时间复杂度？"
   ]
  },
  {
   "cell_type": "code",
   "execution_count": 42,
   "metadata": {},
   "outputs": [
    {
     "data": {
      "text/plain": [
       "[8, 10]"
      ]
     },
     "execution_count": 42,
     "metadata": {},
     "output_type": "execute_result"
    }
   ],
   "source": [
    "def insert(array: list, length: int, vule: int) -> list:\n",
    "    location = 0\n",
    "    if length >= len(array):\n",
    "        sum = 0\n",
    "        for v in array:\n",
    "            sum = sum + v\n",
    "        array[0] = sum\n",
    "        del array[1:]\n",
    "        location += 1\n",
    "    array.insert(location, vule)\n",
    "    return array\n",
    "    \n",
    "insert([1, 3, 4], 3, 10)"
   ]
  },
  {
   "cell_type": "markdown",
   "metadata": {},
   "source": [
    "*分析:*  \n",
    "最好时间复杂度：$O(1)$  \n",
    "最差时间复杂度：$O(n)$  \n",
    "平均时间复杂度：$O(1)$  \n",
    "> 有空闲时间$O(1)$；没有空闲时间$O(n)$；这n+1种情况，发生的概率一样，都是$\\frac{1}{n+1}$  \n",
    "根据加权平均计算方法$1*\\frac{1}{n+1}+1*\\frac{1}{n+1}+$...$1*\\frac{1}{n+1}+n*\\frac{1}{n+1}$ = $\\frac{2n}{n+2}$ = $\\frac{O(n)}{O(n)}$ = $O(1)$ \n",
    "\n",
    "【问题2】例子里的平均复杂度分析其实并不需要这么复 杂，不需要引入概率论的知识。对于insert()函数来说，O(1)时间复杂度的插入和O(n)时间复杂度的插入，一般都是一个O(n)插入之后，紧跟着n-1个O(1)的 插入操作，循环往复。针对这种特殊的场景，引入了一种更加简单的分析方法：摊还分析法，通过摊还分析得到的时间复杂度起了一个名字，叫**均摊时间复杂度**。  "
   ]
  },
  {
   "cell_type": "markdown",
   "metadata": {},
   "source": [
    "## 均摊时间复杂度分析\n",
    "> 均摊时间复杂度就是一种特殊 的平均时间复杂度\n",
    "\n",
    "根据【问题2】每一次O(n)的插入操作，都会跟着n-1次O(1)的插入操作，所以把耗时多的那次操作均摊到接下来的n-1次耗时少的操作上，均摊下来，这一组连续的操作的均摊时间复杂度就是O(1)  \n",
    "\n",
    "### 均摊时间复杂度分析应用场景\n",
    "- 对一个数据结构进行一组连续操作中，大部分情况下时间复杂度都很低，只有个别情况下时间复杂度比较高，而且这些操作之间存在前后连贯的时序关系：  \n",
    "> 这个时候，我们就可以将这一组操作放在一块儿分析，看是否能将较高时间复杂度那次操作的耗时，平摊到其他那些时间复杂度比较低的操作上。而且，在能够应用均摊时间复杂度分析的场合，一般均摊时间复杂度就等于最好情况时间复杂度。\n"
   ]
  }
 ],
 "metadata": {
  "kernelspec": {
   "display_name": "Python 3",
   "language": "python",
   "name": "python3"
  },
  "language_info": {
   "codemirror_mode": {
    "name": "ipython",
    "version": 3
   },
   "file_extension": ".py",
   "mimetype": "text/x-python",
   "name": "python",
   "nbconvert_exporter": "python",
   "pygments_lexer": "ipython3",
   "version": "3.6.5"
  }
 },
 "nbformat": 4,
 "nbformat_minor": 2
}
