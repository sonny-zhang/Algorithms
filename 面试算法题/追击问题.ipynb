{
 "cells": [
  {
   "cell_type": "markdown",
   "metadata": {},
   "source": [
    "## 时钟重合问题\n",
    "在一天的24小时之中，时钟的时针、分针和秒针完全重合在一起的时候有几次？都分别是什么时间？你怎样算出来的？"
   ]
  },
  {
   "cell_type": "markdown",
   "metadata": {},
   "source": [
    "分析：  \n",
    "这个问题的前提一定是圆形钟表，所以可以分割成0-12小时，12-24小时；  \n",
    "以时针和分针为例：  \n",
    "0-12小时：起点是重合的00:00:00，下一次重合的路程差一定是306度，所以用角速度差乘以重合时间(秒数)就等于360度(这只针对第二次重合，第三次重合差值是360*2)，得出重合时间就是第二次重合的时间3927秒，就是说每过3927秒就重合一次\n",
    "12小时=43200秒，那0-12小时有几次重合呢？43200/3927=11次，所以24小时有22次重合"
   ]
  },
  {
   "cell_type": "code",
   "execution_count": 7,
   "metadata": {},
   "outputs": [
    {
     "name": "stdout",
     "output_type": "stream",
     "text": [
      "3927\n"
     ]
    }
   ],
   "source": [
    "from fractions import Fraction\n",
    "def  clock_overlap():\n",
    "    w1 = Fraction(1, 120)   # 时针角速度\n",
    "    w2 = Fraction(1, 10)    # 分针角速度\n",
    "    w3 = 6                  # 秒针角速度\n",
    "    \n",
    "    w = w2-w1\n",
    "    t = 360 // w \n",
    "    print(t)\n",
    "    \n",
    "clock_overlap()"
   ]
  }
 ],
 "metadata": {
  "kernelspec": {
   "display_name": "Python 3",
   "language": "python",
   "name": "python3"
  },
  "language_info": {
   "codemirror_mode": {
    "name": "ipython",
    "version": 3
   },
   "file_extension": ".py",
   "mimetype": "text/x-python",
   "name": "python",
   "nbconvert_exporter": "python",
   "pygments_lexer": "ipython3",
   "version": "3.6.5"
  }
 },
 "nbformat": 4,
 "nbformat_minor": 2
}
